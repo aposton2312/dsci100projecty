{
 "cells": [
  {
   "cell_type": "markdown",
   "id": "80e6ac30-714c-4d3b-ada9-d62093da9c62",
   "metadata": {},
   "source": [
    "Frank Wood's UBC computer sience research group has compiled data about minecraft players which includes information about the players themselves, and about how they play the game.  One of the questions they are interesting in answering is which time windows are most likely to have the largest numbers of simultaneous players.  The motivation behind this is for them to ensure that the number of liceses one hand is sufficiently large enough to accomodate all parallel players with high probability.  I will be diving further into this question by answering which time windows have the most players, and more specifically, what time windows players are most popular depending on experience level, gender, and age. In other words, can experience level, gender, and age predict the time period of play?"
   ]
  },
  {
   "cell_type": "code",
   "execution_count": null,
   "id": "57688ee9-d8ee-4b49-9623-6e142bd26671",
   "metadata": {},
   "outputs": [],
   "source": []
  }
 ],
 "metadata": {
  "kernelspec": {
   "display_name": "R",
   "language": "R",
   "name": "ir"
  },
  "language_info": {
   "codemirror_mode": "r",
   "file_extension": ".r",
   "mimetype": "text/x-r-source",
   "name": "R",
   "pygments_lexer": "r",
   "version": "4.3.3"
  }
 },
 "nbformat": 4,
 "nbformat_minor": 5
}
